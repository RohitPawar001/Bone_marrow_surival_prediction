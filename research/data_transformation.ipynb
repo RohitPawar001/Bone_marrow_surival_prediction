{
 "cells": [
  {
   "cell_type": "code",
   "execution_count": 1,
   "metadata": {},
   "outputs": [],
   "source": [
    "import os\n",
    "import pandas as pd"
   ]
  },
  {
   "cell_type": "code",
   "execution_count": 2,
   "metadata": {},
   "outputs": [
    {
     "data": {
      "text/plain": [
       "'d:\\\\software\\\\python_vs\\\\Bone_marrow_survival_prediction\\\\research'"
      ]
     },
     "execution_count": 2,
     "metadata": {},
     "output_type": "execute_result"
    }
   ],
   "source": [
    "%pwd"
   ]
  },
  {
   "cell_type": "code",
   "execution_count": 3,
   "metadata": {},
   "outputs": [],
   "source": [
    "os.chdir(\"../\")"
   ]
  },
  {
   "cell_type": "code",
   "execution_count": 4,
   "metadata": {},
   "outputs": [
    {
     "data": {
      "text/plain": [
       "'d:\\\\software\\\\python_vs\\\\Bone_marrow_survival_prediction'"
      ]
     },
     "execution_count": 4,
     "metadata": {},
     "output_type": "execute_result"
    }
   ],
   "source": [
    "%pwd"
   ]
  },
  {
   "cell_type": "markdown",
   "metadata": {},
   "source": [
    "## Entity"
   ]
  },
  {
   "cell_type": "code",
   "execution_count": 5,
   "metadata": {},
   "outputs": [],
   "source": [
    "from dataclasses import dataclass\n",
    "from pathlib import Path\n",
    "\n",
    "@dataclass(frozen=True)\n",
    "class DataTransformationconfig:\n",
    "    root_dir : Path\n",
    "    data_path : Path"
   ]
  },
  {
   "cell_type": "markdown",
   "metadata": {},
   "source": [
    "## ConfigurationManager"
   ]
  },
  {
   "cell_type": "code",
   "execution_count": 6,
   "metadata": {},
   "outputs": [],
   "source": [
    "from Bone_marrow_survival_prediction.constants import *\n",
    "from Bone_marrow_survival_prediction.utils.comman import read_yaml, create_directories\n",
    "\n",
    "class ConfigurationManager:\n",
    "    def __init__(\n",
    "        self,\n",
    "        config_filepath = CONFIG_FILE_PATH,\n",
    "        params_filepath = PARAMS_FILE_PATH,\n",
    "        schema_filepath = SCHEMA_FILE_PATH\n",
    "        ):\n",
    "    \n",
    "        self.config = read_yaml(config_filepath)\n",
    "        self.params = read_yaml(params_filepath)\n",
    "        self.schema = read_yaml(schema_filepath)\n",
    "    \n",
    "        create_directories([self.config.artifacts_root])\n",
    "    \n",
    "    def get_data_transformation_config(self) -> DataTransformationconfig:\n",
    "        config = self.config.data_transformation\n",
    "        \n",
    "        create_directories([config.root_dir])\n",
    "        \n",
    "        data_transformation_config = DataTransformationconfig(\n",
    "            root_dir = config.root_dir,\n",
    "            data_path = config.data_path\n",
    "        )\n",
    "        \n",
    "        return data_transformation_config\n",
    "    "
   ]
  },
  {
   "cell_type": "markdown",
   "metadata": {},
   "source": [
    "## Coponents"
   ]
  },
  {
   "cell_type": "code",
   "execution_count": 10,
   "metadata": {},
   "outputs": [
    {
     "name": "stdout",
     "output_type": "stream",
     "text": [
      "Collecting imblearn\n",
      "  Downloading imblearn-0.0-py2.py3-none-any.whl.metadata (355 bytes)\n",
      "Collecting imbalanced-learn (from imblearn)\n",
      "  Downloading imbalanced_learn-0.13.0-py3-none-any.whl.metadata (8.8 kB)\n",
      "Requirement already satisfied: numpy<3,>=1.24.3 in d:\\software\\lib\\site-packages (from imbalanced-learn->imblearn) (1.26.4)\n",
      "Requirement already satisfied: scipy<2,>=1.10.1 in d:\\software\\lib\\site-packages (from imbalanced-learn->imblearn) (1.13.0)\n",
      "Requirement already satisfied: scikit-learn<2,>=1.3.2 in d:\\software\\lib\\site-packages (from imbalanced-learn->imblearn) (1.4.2)\n",
      "Collecting sklearn-compat<1,>=0.1 (from imbalanced-learn->imblearn)\n",
      "  Downloading sklearn_compat-0.1.3-py3-none-any.whl.metadata (18 kB)\n",
      "Requirement already satisfied: joblib<2,>=1.1.1 in d:\\software\\lib\\site-packages (from imbalanced-learn->imblearn) (1.4.0)\n",
      "Requirement already satisfied: threadpoolctl<4,>=2.0.0 in d:\\software\\lib\\site-packages (from imbalanced-learn->imblearn) (3.4.0)\n",
      "Downloading imblearn-0.0-py2.py3-none-any.whl (1.9 kB)\n",
      "Downloading imbalanced_learn-0.13.0-py3-none-any.whl (238 kB)\n",
      "Downloading sklearn_compat-0.1.3-py3-none-any.whl (18 kB)\n",
      "Installing collected packages: sklearn-compat, imbalanced-learn, imblearn\n",
      "Successfully installed imbalanced-learn-0.13.0 imblearn-0.0 sklearn-compat-0.1.3\n",
      "Note: you may need to restart the kernel to use updated packages.\n"
     ]
    }
   ],
   "source": [
    "pip install imblearn"
   ]
  },
  {
   "cell_type": "code",
   "execution_count": 24,
   "metadata": {},
   "outputs": [],
   "source": [
    "import os\n",
    "import pandas as pd\n",
    "import numpy as np\n",
    "from sklearn.preprocessing import OrdinalEncoder\n",
    "from sklearn.model_selection import train_test_split\n",
    "from sklearn.feature_selection import mutual_info_classif\n",
    "from imblearn.over_sampling import SMOTE\n",
    "from collections import Counter\n",
    "import logging\n",
    "\n",
    "\n",
    "logging.basicConfig(level=logging.INFO)\n",
    "logger = logging.getLogger(__name__)\n",
    "\n",
    "\n",
    "    \n",
    "class DataTransformation:\n",
    "    def __init__(self, config: DataTransformationConfig):\n",
    "        self.config = config\n",
    "\n",
    "    @staticmethod\n",
    "    def is_string_numeric(val):\n",
    "        try:\n",
    "            float(val)\n",
    "            return True\n",
    "        except ValueError:\n",
    "            return False\n",
    "\n",
    "    def preprocess_data(self):\n",
    "        data = pd.read_csv(self.config.data_path)\n",
    "\n",
    "        if \"Disease\" in data.columns and data[\"Disease\"].dtype == \"O\":\n",
    "            encoder = OrdinalEncoder()\n",
    "            data[\"Disease_encoded\"] = encoder.fit_transform(data[[\"Disease\"]])\n",
    "            data.drop(\"Disease\", axis=1, inplace=True)\n",
    "\n",
    "        data.replace(\"?\", np.nan, inplace=True)\n",
    "        data.dropna(inplace=True)\n",
    "\n",
    "        for feature in data.columns:\n",
    "            if data[feature].dtype == \"O\":\n",
    "                is_numeric = data[feature].apply(self.is_string_numeric)\n",
    "                if is_numeric.all():  \n",
    "                    data[feature] = data[feature].astype(\"float64\")\n",
    "                    logger.info(f\"The {feature} feature is converted into float\")\n",
    "\n",
    "        return data\n",
    "\n",
    "    def train_test_split(self):\n",
    "        data = self.preprocess_data()  \n",
    "         \n",
    "\n",
    "        X = data.drop(\"survival_status\",axis = 1)\n",
    "        y = data[\"survival_status\"]\n",
    "\n",
    "        mi = mutual_info_classif(X, y)\n",
    "        mi_df = pd.DataFrame({'Feature': X.columns, 'Mutual Information': mi})\n",
    "        mi_df = mi_df.sort_values(by='Mutual Information', ascending=False)\n",
    "        top_features = mi_df.head(5)['Feature']\n",
    "\n",
    "        X = data[top_features]\n",
    "\n",
    "        X_train, X_test, y_train, y_test = train_test_split(X, y, test_size=0.2, random_state=42)\n",
    "\n",
    "        desired_percentage = 0.5\n",
    "\n",
    "        current_counts = Counter(y_train)\n",
    "        total_samples = len(y_train)\n",
    "        minority_class = min(current_counts, key=current_counts.get)\n",
    "        majority_class = max(current_counts, key=current_counts.get)\n",
    "\n",
    "        desired_minority_count = int(total_samples * desired_percentage)\n",
    "        minority_samples_needed = desired_minority_count - current_counts[minority_class]\n",
    "\n",
    "        # Apply SMOTE to balance the dataset\n",
    "        smote = SMOTE(sampling_strategy={minority_class: current_counts[minority_class] + minority_samples_needed})\n",
    "        X_train, y_train = smote.fit_resample(X_train, y_train)\n",
    "\n",
    "        X_train.to_csv(os.path.join(self.config.root_dir, \"train.csv\"), index=False)\n",
    "        y_train.to_csv(os.path.join(self.config.root_dir, \"y_train.csv\"), index=False)\n",
    "        X_test.to_csv(os.path.join(self.config.root_dir, \"test.csv\"), index=False)\n",
    "        y_test.to_csv(os.path.join(self.config.root_dir, \"y_test.csv\"), index=False)\n",
    "\n",
    "        logger.info(\"Splited data into train and test sets\")\n"
   ]
  },
  {
   "cell_type": "code",
   "execution_count": 23,
   "metadata": {},
   "outputs": [
    {
     "name": "stdout",
     "output_type": "stream",
     "text": [
      "[ 2025-01-23 20:17:30,737: INFO: comman: yaml file: config\\config.yaml loaded successfully]\n",
      "[ 2025-01-23 20:17:30,738: INFO: comman: yaml file: params.yaml loaded successfully]\n",
      "[ 2025-01-23 20:17:30,741: INFO: comman: yaml file: schema.yaml loaded successfully]\n",
      "[ 2025-01-23 20:17:30,742: INFO: comman: created directory at: artifacts]\n",
      "[ 2025-01-23 20:17:30,743: INFO: comman: created directory at: artifacts/data_validation]\n",
      "[ 2025-01-23 20:17:30,749: INFO: 3893366604: The RecipientABO feature is converted into float]\n",
      "[ 2025-01-23 20:17:30,750: INFO: 3893366604: The RecipientRh feature is converted into float]\n",
      "[ 2025-01-23 20:17:30,750: INFO: 3893366604: The ABOmatch feature is converted into float]\n",
      "[ 2025-01-23 20:17:30,750: INFO: 3893366604: The CMVstatus feature is converted into float]\n",
      "[ 2025-01-23 20:17:30,756: INFO: 3893366604: The DonorCMV feature is converted into float]\n",
      "[ 2025-01-23 20:17:30,757: INFO: 3893366604: The RecipientCMV feature is converted into float]\n",
      "[ 2025-01-23 20:17:30,759: INFO: 3893366604: The Antigen feature is converted into float]\n",
      "[ 2025-01-23 20:17:30,759: INFO: 3893366604: The Alel feature is converted into float]\n",
      "[ 2025-01-23 20:17:30,760: INFO: 3893366604: The extcGvHD feature is converted into float]\n",
      "[ 2025-01-23 20:17:30,761: INFO: 3893366604: The CD3dCD34 feature is converted into float]\n",
      "[ 2025-01-23 20:17:30,762: INFO: 3893366604: The CD3dkgx10d8 feature is converted into float]\n",
      "[ 2025-01-23 20:17:30,763: INFO: 3893366604: The Rbodymass feature is converted into float]\n",
      "[ 2025-01-23 20:17:30,818: INFO: 3893366604: Splited data into train and test sets]\n"
     ]
    }
   ],
   "source": [
    "try:\n",
    "    config = ConfigurationManager()\n",
    "    data_transformation_config = config.get_data_transformation_config()\n",
    "    data_transformation = DataTransformation(data_transformation_config)\n",
    "    data_transformation.train_test_split()\n",
    "except Exception as e:\n",
    "    raise e\n",
    "    \n",
    "    "
   ]
  },
  {
   "cell_type": "code",
   "execution_count": null,
   "metadata": {},
   "outputs": [],
   "source": []
  }
 ],
 "metadata": {
  "kernelspec": {
   "display_name": "Python 3",
   "language": "python",
   "name": "python3"
  },
  "language_info": {
   "codemirror_mode": {
    "name": "ipython",
    "version": 3
   },
   "file_extension": ".py",
   "mimetype": "text/x-python",
   "name": "python",
   "nbconvert_exporter": "python",
   "pygments_lexer": "ipython3",
   "version": "3.12.2"
  }
 },
 "nbformat": 4,
 "nbformat_minor": 2
}
