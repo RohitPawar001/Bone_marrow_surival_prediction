{
 "cells": [
  {
   "cell_type": "code",
   "execution_count": 1,
   "metadata": {},
   "outputs": [],
   "source": [
    "import os"
   ]
  },
  {
   "cell_type": "code",
   "execution_count": 2,
   "metadata": {},
   "outputs": [
    {
     "data": {
      "text/plain": [
       "'d:\\\\software\\\\python_vs\\\\Bone_marrow_survival_prediction\\\\research'"
      ]
     },
     "execution_count": 2,
     "metadata": {},
     "output_type": "execute_result"
    }
   ],
   "source": [
    "%pwd"
   ]
  },
  {
   "cell_type": "code",
   "execution_count": 3,
   "metadata": {},
   "outputs": [],
   "source": [
    "os.chdir(\"../\")"
   ]
  },
  {
   "cell_type": "code",
   "execution_count": 4,
   "metadata": {},
   "outputs": [
    {
     "data": {
      "text/plain": [
       "'d:\\\\software\\\\python_vs\\\\Bone_marrow_survival_prediction'"
      ]
     },
     "execution_count": 4,
     "metadata": {},
     "output_type": "execute_result"
    }
   ],
   "source": [
    "%pwd"
   ]
  },
  {
   "cell_type": "markdown",
   "metadata": {},
   "source": [
    "$env:MLFLOW_TRACKING_URI=\"https://dagshub.com/rppawar491/Bone_marrow_surival_prediction.mlflow\"\n",
    "$env:MLFLOW_TRACKING_USERNAME=\"rppawar491\"\n",
    "$env:MLFLOW_TRACKING_PASSWORD=\"024579b40f9cfcb8f0cb1be07a0ed82e8ae6f12e\""
   ]
  },
  {
   "cell_type": "markdown",
   "metadata": {},
   "source": []
  },
  {
   "cell_type": "code",
   "execution_count": 5,
   "metadata": {},
   "outputs": [],
   "source": [
    "os.environ[\"MLFLOW_TRACKING_URI\"] = \"https://dagshub.com/rppawar491/Bone_marrow_surival_prediction.mlflow\"\n",
    "os.environ[\"MLFLOW_TRACKING_USERNAME\"] = \"rppawar491\"\n",
    "os.environ[\"MLFLOW_TRACKING_PASSWORD\"] = \"490e6ae7bb9405fa77d80a472fcda7758b0d1abd\""
   ]
  },
  {
   "cell_type": "markdown",
   "metadata": {},
   "source": [
    "### Entity"
   ]
  },
  {
   "cell_type": "code",
   "execution_count": 6,
   "metadata": {},
   "outputs": [],
   "source": [
    "from pathlib import Path\n",
    "from dataclasses import dataclass\n",
    "\n",
    "@dataclass(frozen=True)\n",
    "class ModelEvaluationConfig:\n",
    "    root_dir : Path\n",
    "    x_test_data_path : Path\n",
    "    y_test_data_path : Path\n",
    "    metric_file_name : Path\n",
    "    model_path : Path\n",
    "    all_params : dict\n",
    "    target_column :str\n",
    "    mlflow_uri : str"
   ]
  },
  {
   "cell_type": "markdown",
   "metadata": {},
   "source": [
    "### Configuration manager"
   ]
  },
  {
   "cell_type": "code",
   "execution_count": 21,
   "metadata": {},
   "outputs": [],
   "source": [
    "from Bone_marrow_survival_prediction.constants import *\n",
    "from Bone_marrow_survival_prediction.utils.comman import read_yaml, create_directories\n",
    "from Bone_marrow_survival_prediction import logger\n",
    "\n",
    "class ConfigurationManager:\n",
    "    def __init__(\n",
    "        self,\n",
    "        config_filepath = CONFIG_FILE_PATH,\n",
    "        params_filepath = PARAMS_FILE_PATH,\n",
    "        schema_filepath = SCHEMA_FILE_PATH\n",
    "    ):\n",
    "        \n",
    "        self.config = read_yaml(config_filepath)\n",
    "        self.params = read_yaml(params_filepath)\n",
    "        self.schema = read_yaml(schema_filepath)\n",
    "        \n",
    "        create_directories([self.config.artifacts_root])\n",
    "        \n",
    "    def get_model_evaluation_config(self) -> ModelEvaluationConfig:\n",
    "        config = self.config.model_evaluation\n",
    "        params = self.params.SupportVectorclassifier\n",
    "        schema = self.schema.TARGET_COLUMN\n",
    "        \n",
    "        create_directories([config.root_dir])\n",
    "        \n",
    "        model_evaluation_config = ModelEvaluationConfig(\n",
    "            root_dir = config.root_dir,\n",
    "            x_test_data_path = config.x_test_data_path,\n",
    "            y_test_data_path = config.y_test_data_path,\n",
    "            metric_file_name = config.metric_file_name,\n",
    "            model_path = config.model_path,\n",
    "            all_params = params,\n",
    "            target_column = schema,\n",
    "            mlflow_uri = \"https://dagshub.com/rppawar491/Bone_marrow_surival_prediction.mlflow\"\n",
    "            \n",
    "        )\n",
    "        \n",
    "        return model_evaluation_config"
   ]
  },
  {
   "cell_type": "markdown",
   "metadata": {},
   "source": [
    "### Component"
   ]
  },
  {
   "cell_type": "code",
   "execution_count": 22,
   "metadata": {},
   "outputs": [],
   "source": [
    "def setup_dagshub_mlflow_tracking(token):\n",
    "    \n",
    "    try:\n",
    "       \n",
    "        dagshub_uri = \"https://dagshub.com/rppawar491/Bone_marrow_surival_prediction.mlflow\"\n",
    "        \n",
    "        os.environ['MLFLOW_TRACKING_URI'] = dagshub_uri\n",
    "        os.environ['MLFLOW_TRACKING_TOKEN'] = token\n",
    "        \n",
    "        mlflow.set_tracking_uri(dagshub_uri)\n",
    "        \n",
    "        logger.info(f\"DagsHub MLflow Tracking Configured Successfully\")\n",
    "    except Exception as e:\n",
    "        logger.exception(e)\n",
    "        raise e"
   ]
  },
  {
   "cell_type": "code",
   "execution_count": 23,
   "metadata": {},
   "outputs": [],
   "source": [
    "import mlflow\n",
    "import joblib\n",
    "import pandas as pd\n",
    "import numpy as np\n",
    "from pathlib import Path\n",
    "from urllib.parse import urlparse\n",
    "from sklearn.metrics import accuracy_score, precision_score, f1_score\n",
    "\n",
    "\n",
    "class ModelEvaluation:\n",
    "    def __init__(self, config: ModelEvaluationConfig):\n",
    "        self.config = config\n",
    "    \n",
    "    def eval_metrics(self, actual, pred):\n",
    "\n",
    "        try:\n",
    "            accuracy = accuracy_score(actual, pred)\n",
    "            precision = precision_score(actual, pred, average='weighted')\n",
    "            f1 = f1_score(actual, pred, average='weighted')\n",
    "            return accuracy, precision, f1\n",
    "        except Exception as e:\n",
    "            print(f\"Error calculating metrics: {e}\")\n",
    "            return 0, 0, 0\n",
    "    \n",
    "    def log_into_mlflow(self, access_token):\n",
    "        \n",
    "        try:\n",
    "            \n",
    "            setup_dagshub_mlflow_tracking(access_token)\n",
    "            test_df = pd.read_csv(self.config.x_test_data_path)\n",
    "            test_labels_df = pd.read_csv(self.config.y_test_data_path)\n",
    "            \n",
    "            \n",
    "            X_test = test_df\n",
    "            y_test = test_labels_df\n",
    "            \n",
    "           \n",
    "            model = joblib.load(self.config.model_path)\n",
    "            \n",
    "           \n",
    "            y_pred = model.predict(X_test)\n",
    "            \n",
    "           \n",
    "            accuracy = accuracy_score(y_test, y_pred)\n",
    "            precision = precision_score(y_test, y_pred, average='weighted')\n",
    "            f1 = f1_score(y_test, y_pred, average='weighted')\n",
    "            \n",
    "            \n",
    "            with mlflow.start_run():\n",
    "               \n",
    "                mlflow.log_metrics({\n",
    "                    \"accuracy\": accuracy,\n",
    "                    \"precision\": precision,\n",
    "                    \"f1_score\": f1\n",
    "                })\n",
    "                \n",
    "                \n",
    "                mlflow.sklearn.log_model(\n",
    "                    model, \n",
    "                    \"model\", \n",
    "                    registered_model_name=\"BoneMarrowSurvivalModel\"\n",
    "                )\n",
    "                \n",
    "                logger.info(\"Model and metrics logged successfully\")\n",
    "                \n",
    "                return {\n",
    "                    \"accuracy\": accuracy,\n",
    "                    \"precision\": precision,\n",
    "                    \"f1_score\": f1\n",
    "                }\n",
    "        \n",
    "        except Exception as e:\n",
    "            logger.exception(e)\n",
    "            raise e"
   ]
  },
  {
   "cell_type": "markdown",
   "metadata": {},
   "source": [
    "### Pipeline"
   ]
  },
  {
   "cell_type": "code",
   "execution_count": 24,
   "metadata": {},
   "outputs": [
    {
     "name": "stdout",
     "output_type": "stream",
     "text": [
      "[ 2025-01-25 20:54:50,832: INFO: comman: yaml file: config\\config.yaml loaded successfully]\n",
      "[ 2025-01-25 20:54:50,840: INFO: comman: yaml file: params.yaml loaded successfully]\n",
      "[ 2025-01-25 20:54:50,848: INFO: comman: yaml file: schema.yaml loaded successfully]\n",
      "[ 2025-01-25 20:54:50,849: INFO: comman: created directory at: artifacts]\n",
      "[ 2025-01-25 20:54:50,849: INFO: comman: created directory at: artifacts/model_evaluation]\n",
      "[ 2025-01-25 20:54:50,854: INFO: 4195662002: DagsHub MLflow Tracking Configured Successfully]\n"
     ]
    },
    {
     "name": "stderr",
     "output_type": "stream",
     "text": [
      "2025/01/25 20:54:56 WARNING mlflow.models.model: Model logged without a signature and input example. Please set `input_example` parameter when logging the model to auto infer the model signature.\n",
      "Registered model 'BoneMarrowSurvivalModel' already exists. Creating a new version of this model...\n",
      "2025/01/25 20:55:03 INFO mlflow.store.model_registry.abstract_store: Waiting up to 300 seconds for model version to finish creation. Model name: BoneMarrowSurvivalModel, version 6\n"
     ]
    },
    {
     "name": "stdout",
     "output_type": "stream",
     "text": [
      "[ 2025-01-25 20:55:03,582: INFO: 2429907925: Model and metrics logged successfully]\n"
     ]
    },
    {
     "name": "stderr",
     "output_type": "stream",
     "text": [
      "Created version '6' of model 'BoneMarrowSurvivalModel'.\n"
     ]
    },
    {
     "name": "stdout",
     "output_type": "stream",
     "text": [
      "🏃 View run luxuriant-eel-944 at: https://dagshub.com/rppawar491/Bone_marrow_surival_prediction.mlflow/#/experiments/0/runs/3385c9fd24e241c2b3532bca74c1b492\n",
      "🧪 View experiment at: https://dagshub.com/rppawar491/Bone_marrow_surival_prediction.mlflow/#/experiments/0\n"
     ]
    }
   ],
   "source": [
    "try:\n",
    "        DAGSHUB_ACCESS_TOKEN = \"490e6ae7bb9405fa77d80a472fcda7758b0d1abd\"\n",
    "        config = ConfigurationManager()\n",
    "        model_evaluation_config = config.get_model_evaluation_config()\n",
    "        model_evaluation = ModelEvaluation(config=model_evaluation_config)\n",
    "        metrics = model_evaluation.log_into_mlflow(DAGSHUB_ACCESS_TOKEN)\n",
    "except Exception as e:\n",
    "    raise e"
   ]
  },
  {
   "cell_type": "code",
   "execution_count": null,
   "metadata": {},
   "outputs": [],
   "source": []
  },
  {
   "cell_type": "code",
   "execution_count": null,
   "metadata": {},
   "outputs": [],
   "source": []
  }
 ],
 "metadata": {
  "kernelspec": {
   "display_name": "Python 3",
   "language": "python",
   "name": "python3"
  },
  "language_info": {
   "codemirror_mode": {
    "name": "ipython",
    "version": 3
   },
   "file_extension": ".py",
   "mimetype": "text/x-python",
   "name": "python",
   "nbconvert_exporter": "python",
   "pygments_lexer": "ipython3",
   "version": "3.12.2"
  }
 },
 "nbformat": 4,
 "nbformat_minor": 2
}
